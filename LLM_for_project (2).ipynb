{
  "cells": [
    {
      "cell_type": "markdown",
      "metadata": {
        "id": "pAQDjVcychvD"
      },
      "source": [
        "# LLM setup notebook"
      ]
    },
    {
      "cell_type": "code",
      "source": [
        "!pip install ollama -q > /dev/null"
      ],
      "metadata": {
        "id": "SKmSJcItYiN_"
      },
      "execution_count": null,
      "outputs": []
    },
    {
      "cell_type": "code",
      "execution_count": null,
      "metadata": {
        "id": "h5qSqQC4_5pO"
      },
      "outputs": [],
      "source": [
        "# Importing all the necessary libraries\n",
        "import pandas as pd\n",
        "import zipfile\n",
        "import os\n",
        "import json\n",
        "import ollama\n",
        "import re\n",
        "from collections import Counter\n",
        "import matplotlib.pyplot as plt"
      ]
    },
    {
      "cell_type": "code",
      "execution_count": null,
      "metadata": {
        "id": "CNJUMloFH-F1",
        "colab": {
          "base_uri": "https://localhost:8080/"
        },
        "outputId": "7b53485f-536c-4a7c-e387-5924e5af0b99"
      },
      "outputs": [
        {
          "output_type": "stream",
          "name": "stdout",
          "text": [
            "Mounted at /content/drive\n"
          ]
        }
      ],
      "source": [
        "from google.colab import drive\n",
        "drive.mount('/content/drive')"
      ]
    },
    {
      "cell_type": "markdown",
      "source": [
        "### Code to connect all the files in within the ZIP file into one DF"
      ],
      "metadata": {
        "id": "vlCasd2hVlzj"
      }
    },
    {
      "cell_type": "code",
      "source": [
        "# Path to the ZIP file\n",
        "zip_file_path = '/content/drive/My Drive/Files/file.zip'\n",
        "\n",
        "# Temporary folder to extract JSON files\n",
        "extract_folder = '/content/json_files'\n",
        "\n",
        "# Extract all files from the ZIP\n",
        "with zipfile.ZipFile(zip_file_path, 'r') as zip_ref:\n",
        "    zip_ref.extractall(extract_folder)\n",
        "\n",
        "# Initialize a list to store data\n",
        "dataframes = []\n",
        "\n",
        "# Iterate over each JSON file in the extracted folder\n",
        "for file_name in os.listdir(extract_folder):\n",
        "    if file_name.endswith('.json'):  # Check if it's a JSON file\n",
        "        file_path = os.path.join(extract_folder, file_name)\n",
        "        try:\n",
        "            # Read the JSON file\n",
        "            with open(file_path, 'r', encoding='utf-8') as file:\n",
        "                data = json.load(file)\n",
        "\n",
        "                df_temp = pd.DataFrame(data)\n",
        "                dataframes.append(df_temp)\n",
        "        except Exception as e:\n",
        "            print(f\"Error reading {file_name}: {e}\")\n",
        "\n",
        "# Combine all DataFrames into one named df\n",
        "df = pd.concat(dataframes, ignore_index=True)"
      ],
      "metadata": {
        "id": "AZEVbTPd8XTT"
      },
      "execution_count": null,
      "outputs": []
    },
    {
      "cell_type": "markdown",
      "source": [
        "## Data Preprocessing Before LLM\n",
        "\n",
        "In this step, we preprocess the data to ensure it is ready for the LLM. We remove rows with missing or insufficient information, as well as those that do not align with the project's objectives, ensuring that only relevant and complete data is passed for further processing."
      ],
      "metadata": {
        "id": "7p0iHNVGAbnE"
      }
    },
    {
      "cell_type": "code",
      "source": [
        " # Calculate word counts for each row in the 'HTML_Text' column\n",
        "df['word_count'] = df['HTML_Text'].apply(lambda x: len(x.split()))\n",
        "\n",
        "# Generate statistics on the word counts\n",
        "stats = df['word_count'].describe()\n",
        "\n",
        "# Print the statistics\n",
        "print(stats)"
      ],
      "metadata": {
        "colab": {
          "base_uri": "https://localhost:8080/"
        },
        "id": "gl3KRBoBZkym",
        "outputId": "1ca2f9d6-a8f0-4c3c-86fe-41dd6ba5adb8"
      },
      "execution_count": null,
      "outputs": [
        {
          "output_type": "stream",
          "name": "stdout",
          "text": [
            "count    1494.000000\n",
            "mean      629.763052\n",
            "std       344.463381\n",
            "min        66.000000\n",
            "25%       413.250000\n",
            "50%       670.000000\n",
            "75%       826.000000\n",
            "max      4080.000000\n",
            "Name: word_count, dtype: float64\n"
          ]
        }
      ]
    },
    {
      "cell_type": "markdown",
      "source": [
        "### We remove the HTML texts where the word count is less than 400 as those do not give use enought info to work with."
      ],
      "metadata": {
        "id": "waeBgr8XUks7"
      }
    },
    {
      "cell_type": "code",
      "source": [
        "# Define a threshold for minimum word count\n",
        "min_word_count = 400\n",
        "\n",
        "# Filter the original dataframe in place, only keeping rows meeting the word count requirement\n",
        "df = df[df['HTML_Text'].apply(lambda x: len(x.split()) > min_word_count)].copy()\n",
        "\n",
        "df.shape"
      ],
      "metadata": {
        "id": "xj5hc_OlZeQ0",
        "colab": {
          "base_uri": "https://localhost:8080/"
        },
        "outputId": "02a4f355-8dbf-4c6b-e6fc-d65f5d1f28f5"
      },
      "execution_count": null,
      "outputs": [
        {
          "output_type": "execute_result",
          "data": {
            "text/plain": [
              "(1127, 9)"
            ]
          },
          "metadata": {},
          "execution_count": 10
        }
      ]
    },
    {
      "cell_type": "markdown",
      "source": [
        "### Removing additional letters from city names. For example ''Aalborg C'' would become ''Aalborg''"
      ],
      "metadata": {
        "id": "-rYR74pdUqc7"
      }
    },
    {
      "cell_type": "code",
      "source": [
        "# Function to city area indications\n",
        "def clean_trailing_indicators(area):\n",
        "    if pd.isna(area):\n",
        "        return None\n",
        "    # Remove things like 'o', 'c', 'SØ', 'N', 'K'\n",
        "    area = re.sub(r'\\s+[a-zA-ZÆØÅæøå]+$', '', area.strip())\n",
        "    return area\n",
        "\n",
        "# Apply the cleaning function to the 'Area' column\n",
        "df['Area'] = df['Area'].apply(clean_trailing_indicators)"
      ],
      "metadata": {
        "id": "nCzPFPiTHfbs"
      },
      "execution_count": null,
      "outputs": []
    },
    {
      "cell_type": "markdown",
      "source": [
        "### Some ads have more than one city listed as an option. We only keep the city that was listed as the first option"
      ],
      "metadata": {
        "id": "_MDcV2eRV2Ny"
      }
    },
    {
      "cell_type": "code",
      "source": [
        "# Simplified function to keep the first city\n",
        "def keep_first_place_simple(area):\n",
        "    if pd.isna(area):\n",
        "        return None\n",
        "    # Split by simpler delimiters\n",
        "    delimiters = [',', '/', ' og', ' eller', ' or', ' and']\n",
        "    for delim in delimiters:\n",
        "        if delim in area:\n",
        "            # Keep only the first part\n",
        "            area = area.split(delim)[0].strip()\n",
        "            break\n",
        "    # Return cleaned area if it is meaningful\n",
        "    return area if len(area) > 2 else None\n",
        "\n",
        "# Apply the simplified cleaning function\n",
        "df['Area'] = df['Area'].apply(keep_first_place_simple)"
      ],
      "metadata": {
        "id": "zeD5lq1mJGAi"
      },
      "execution_count": null,
      "outputs": []
    },
    {
      "cell_type": "markdown",
      "source": [
        "### Mapping the 3 cities that have different name in English vs Danish"
      ],
      "metadata": {
        "id": "0n29P_EAUx6y"
      }
    },
    {
      "cell_type": "code",
      "source": [
        "# Mapping of Danish to English city names\n",
        "city_name_mapping = {\n",
        "    'København': 'Copenhagen',\n",
        "    'Århus': 'Aarhus',\n",
        "    'Helsingør': 'Elsinore'\n",
        "}\n",
        "\n",
        "# Replace Danish names with their English equivalents\n",
        "df['Area'] = df['Area'].replace(city_name_mapping)"
      ],
      "metadata": {
        "id": "7yNTLlHXRiP_"
      },
      "execution_count": null,
      "outputs": []
    },
    {
      "cell_type": "markdown",
      "source": [
        "### A list of cities we want to look at. If the area is not one of the ones listed, it is removed. These are the 30 biggest cities in Denmark"
      ],
      "metadata": {
        "id": "-a7IHUUOU6dT"
      }
    },
    {
      "cell_type": "code",
      "source": [
        "# List of 30 biggest cities in Denmark\n",
        "cities = [\n",
        "    \"Copenhagen\", \"Aarhus\", \"Odense\", \"Aalborg\", \"Esbjerg\", \"Randers\", \"Kolding\", \"Horsens\", \"Vejle\", \"Roskilde\",\n",
        "    \"Herning\", \"Hørsholm\", \"Silkeborg\", \"Næstved\", \"Fredericia\", \"Viborg\", \"Køge\", \"Holstebro\", \"Taastrup\", \"Slagelse\",\n",
        "    \"Hillerød\", \"Sønderborg\", \"Svendborg\", \"Hjørring\", \"Holbæk\", \"Frederikshavn\", \"Nørresundby\", \"Ringsted\", \"Haderslev\",\n",
        "    \"Skive\", \"Ølstykke-Stenløse\", \"Nykøbing Falster\", \"Greve Strand\", \"Kalundborg\", \"Ballerup\", \"Rødovre\", \"Lyngby\",\n",
        "    \"Albertslund\", \"Hvidovre\", \"Glostrup\", \"Ishøj\", \"Birkerød\", \"Farum\", \"Frederikssund\", \"Brøndby Strand\",\n",
        "    \"Skanderborg\", \"Hedensted\", \"Frederiksværk\", \"Lillerød\", \"Solrød Strand\"\n",
        "]"
      ],
      "metadata": {
        "id": "gBgfJQUyLoxW"
      },
      "execution_count": null,
      "outputs": []
    },
    {
      "cell_type": "code",
      "source": [
        "# Filter the DataFrame to only include rows where Area is in the cities list\n",
        "df = df[df['Area'].isin(cities)]\n",
        "\n",
        "# Display the filtered DataFrame\n",
        "print(\"Filtered DataFrame:\")\n",
        "print(df.shape)\n",
        "\n",
        "# This is a sample data. Only for a few months"
      ],
      "metadata": {
        "colab": {
          "base_uri": "https://localhost:8080/"
        },
        "id": "bAwxWogOPBMM",
        "outputId": "3e9c47ab-e3b1-4df1-d00f-252d6e108ae4"
      },
      "execution_count": null,
      "outputs": [
        {
          "output_type": "stream",
          "name": "stdout",
          "text": [
            "Filtered DataFrame:\n",
            "(620, 9)\n"
          ]
        }
      ]
    },
    {
      "cell_type": "code",
      "execution_count": null,
      "metadata": {
        "colab": {
          "base_uri": "https://localhost:8080/"
        },
        "collapsed": true,
        "id": "0RvY3VtpLW4k",
        "outputId": "809aaf07-98fb-44d7-9e81-4acbdb761f84"
      },
      "outputs": [
        {
          "output_type": "stream",
          "name": "stdout",
          "text": [
            "Reading package lists... Done\n",
            "Building dependency tree... Done\n",
            "Reading state information... Done\n",
            "The following additional packages will be installed:\n",
            "  libpci3 pci.ids\n",
            "The following NEW packages will be installed:\n",
            "  libpci3 pci.ids pciutils\n",
            "0 upgraded, 3 newly installed, 0 to remove and 49 not upgraded.\n",
            "Need to get 343 kB of archives.\n",
            "After this operation, 1,581 kB of additional disk space will be used.\n",
            "Get:1 http://archive.ubuntu.com/ubuntu jammy/main amd64 pci.ids all 0.0~2022.01.22-1 [251 kB]\n",
            "Get:2 http://archive.ubuntu.com/ubuntu jammy/main amd64 libpci3 amd64 1:3.7.0-6 [28.9 kB]\n",
            "Get:3 http://archive.ubuntu.com/ubuntu jammy/main amd64 pciutils amd64 1:3.7.0-6 [63.6 kB]\n",
            "Fetched 343 kB in 0s (1,123 kB/s)\n",
            "debconf: unable to initialize frontend: Dialog\n",
            "debconf: (No usable dialog-like program is installed, so the dialog based frontend cannot be used. at /usr/share/perl5/Debconf/FrontEnd/Dialog.pm line 78, <> line 3.)\n",
            "debconf: falling back to frontend: Readline\n",
            "debconf: unable to initialize frontend: Readline\n",
            "debconf: (This frontend requires a controlling tty.)\n",
            "debconf: falling back to frontend: Teletype\n",
            "dpkg-preconfigure: unable to re-open stdin: \n",
            "Selecting previously unselected package pci.ids.\n",
            "(Reading database ... 123632 files and directories currently installed.)\n",
            "Preparing to unpack .../pci.ids_0.0~2022.01.22-1_all.deb ...\n",
            "Unpacking pci.ids (0.0~2022.01.22-1) ...\n",
            "Selecting previously unselected package libpci3:amd64.\n",
            "Preparing to unpack .../libpci3_1%3a3.7.0-6_amd64.deb ...\n",
            "Unpacking libpci3:amd64 (1:3.7.0-6) ...\n",
            "Selecting previously unselected package pciutils.\n",
            "Preparing to unpack .../pciutils_1%3a3.7.0-6_amd64.deb ...\n",
            "Unpacking pciutils (1:3.7.0-6) ...\n",
            "Setting up pci.ids (0.0~2022.01.22-1) ...\n",
            "Setting up libpci3:amd64 (1:3.7.0-6) ...\n",
            "Setting up pciutils (1:3.7.0-6) ...\n",
            "Processing triggers for man-db (2.10.2-1) ...\n",
            "Processing triggers for libc-bin (2.35-0ubuntu3.4) ...\n",
            "/sbin/ldconfig.real: /usr/local/lib/libtcm_debug.so.1 is not a symbolic link\n",
            "\n",
            "/sbin/ldconfig.real: /usr/local/lib/libtbbmalloc_proxy.so.2 is not a symbolic link\n",
            "\n",
            "/sbin/ldconfig.real: /usr/local/lib/libtbbmalloc.so.2 is not a symbolic link\n",
            "\n",
            "/sbin/ldconfig.real: /usr/local/lib/libtbb.so.12 is not a symbolic link\n",
            "\n",
            "/sbin/ldconfig.real: /usr/local/lib/libur_adapter_level_zero.so.0 is not a symbolic link\n",
            "\n",
            "/sbin/ldconfig.real: /usr/local/lib/libtbbbind_2_5.so.3 is not a symbolic link\n",
            "\n",
            "/sbin/ldconfig.real: /usr/local/lib/libtbbbind_2_0.so.3 is not a symbolic link\n",
            "\n",
            "/sbin/ldconfig.real: /usr/local/lib/libur_loader.so.0 is not a symbolic link\n",
            "\n",
            "/sbin/ldconfig.real: /usr/local/lib/libur_adapter_opencl.so.0 is not a symbolic link\n",
            "\n",
            "/sbin/ldconfig.real: /usr/local/lib/libtbbbind.so.3 is not a symbolic link\n",
            "\n",
            "/sbin/ldconfig.real: /usr/local/lib/libhwloc.so.15 is not a symbolic link\n",
            "\n",
            "/sbin/ldconfig.real: /usr/local/lib/libumf.so.0 is not a symbolic link\n",
            "\n",
            "/sbin/ldconfig.real: /usr/local/lib/libtcm.so.1 is not a symbolic link\n",
            "\n",
            ">>> Installing ollama to /usr/local\n",
            ">>> Downloading Linux amd64 bundle\n",
            "############################################################################################# 100.0%\n",
            ">>> Creating ollama user...\n",
            ">>> Adding ollama user to video group...\n",
            ">>> Adding current user to ollama group...\n",
            ">>> Creating ollama systemd service...\n",
            "\u001b[1m\u001b[31mWARNING:\u001b[m systemd is not running\n",
            ">>> The Ollama API is now available at 127.0.0.1:11434.\n",
            ">>> Install complete. Run \"ollama\" from the command line.\n",
            "\u001b[1m\u001b[31mWARNING:\u001b[m No NVIDIA/AMD GPU detected. Ollama will run in CPU-only mode.\n",
            ">>> The Ollama API is now available at 127.0.0.1:11434.\n",
            ">>> Install complete. Run \"ollama\" from the command line.\n"
          ]
        }
      ],
      "source": [
        "# Install Ollama\n",
        "!sudo apt-get install -y pciutils\n",
        "!curl -fsSL https://ollama.com/install.sh | sh"
      ]
    },
    {
      "cell_type": "code",
      "execution_count": null,
      "metadata": {
        "id": "ruGKfIYlMd2Q"
      },
      "outputs": [],
      "source": [
        "# Sets up environment variables and starts the Ollama server\n",
        "import os\n",
        "import threading\n",
        "import subprocess\n",
        "\n",
        "def start_ollama():\n",
        "    os.environ['OLLAMA_HOST'] = '0.0.0.0:11434'\n",
        "    os.environ['OLLAMA_ORIGINS'] = '*'\n",
        "    subprocess.Popen([\"ollama\", \"serve\"])\n",
        "\n",
        "ollama_thread = threading.Thread(target=start_ollama)\n",
        "ollama_thread.start()"
      ]
    },
    {
      "cell_type": "code",
      "source": [
        "!ollama run llama3.1:8b"
      ],
      "metadata": {
        "id": "wSKKQZUxWxAU"
      },
      "execution_count": null,
      "outputs": []
    },
    {
      "cell_type": "code",
      "source": [
        "SYSTEM_PROMPT = \"\"\"\n",
        "\n",
        "Extract relevant skills from a job listing, separating them into **primary IT-related technical skills** and **secondary (soft/general) skills**.\n",
        "\n",
        "### Primary Skills\n",
        "Focus on IT-specific technical skills such as:\n",
        "- Programming languages, frameworks, tools, platforms, and technologies.\n",
        "- Examples: Python, React, Docker, AWS, SQL, Kubernetes.\n",
        "\n",
        "### Secondary Skills\n",
        "Focus on non-technical competencies, including:\n",
        "- Communication, leadership, problem-solving, teamwork, time management.\n",
        "\n",
        "---\n",
        "\n",
        "### Rules:\n",
        "- Categorize skills into **primary** (IT-related) and **secondary** (soft skills).\n",
        "- Split compound terms into separate skills (e.g., \"Python and Java\" → [\"Python\", \"Java\"]).\n",
        "- Exclude vague, repetitive, or non-actionable terms.\n",
        "- Translate all extracted skills into **English** if the input text is in Danish.\n",
        "- Ensure outputs are clear, specific, and concise.\n",
        "\n",
        "\n",
        "---\n",
        "\n",
        "### Output Format:\n",
        "```json\n",
        "{\n",
        "  \"skills\": {\n",
        "    \"primary\": [\"Skill 1\", \"Skill 2\", \"...\"],\n",
        "    \"secondary\": [\"Skill A\", \"Skill B\", \"...\"]\n",
        "  }\n",
        "}\n",
        "\n",
        "---\n",
        "\n",
        "Example:\n",
        "\n",
        "Job: \"Looking for Python, Docker, AWS, and strong communication skills.\"\n",
        "\n",
        "Output:\n",
        "{\n",
        "    \"skills\": {\n",
        "    \"primary\": [\"Python\", \"Docker\", \"AWS\"],\n",
        "    \"secondary\": [\"communication\"]\n",
        "  }\n",
        "}\n",
        "\n",
        "\"\"\""
      ],
      "metadata": {
        "id": "vaeOWSMugwt2"
      },
      "execution_count": null,
      "outputs": []
    },
    {
      "cell_type": "code",
      "source": [
        "# Sets up environment variables and starts the Ollama server\n",
        "import os\n",
        "import threading\n",
        "import subprocess\n",
        "\n",
        "def start_ollama():\n",
        "    os.environ['OLLAMA_HOST'] = '0.0.0.0:11434'\n",
        "    os.environ['OLLAMA_ORIGINS'] = '*'\n",
        "    subprocess.Popen([\"ollama\", \"serve\"])\n",
        "\n",
        "ollama_thread = threading.Thread(target=start_ollama)\n",
        "ollama_thread.start()"
      ],
      "metadata": {
        "id": "NvOUzJVM9ded"
      },
      "execution_count": null,
      "outputs": []
    },
    {
      "cell_type": "code",
      "source": [
        "import pandas as pd\n",
        "import json\n",
        "\n",
        "# Function to extract skills (primary and secondary) from job listings\n",
        "def extract_skills(html_text, row_id):\n",
        "    prompt = f\"\"\"\n",
        "    Extract the relevant skills from the following job listing, categorizing them into **primary (IT-related technical skills)** and **secondary (soft/general skills)**.\n",
        "\n",
        "    ### Skills Categories:\n",
        "    1. **Primary Skills:** IT-related technical skills (e.g., Python, AWS, Kubernetes, Docker, SQL, React, etc.).\n",
        "    2. **Secondary Skills:** Soft skills and traits (e.g., Communication, Teamwork, Problem-Solving, Leadership).\n",
        "\n",
        "    ### Rules:\n",
        "    - Split combined skills into distinct terms (e.g., \"Python and Java\" → [\"Python\", \"Java\"]).\n",
        "    - Focus on actionable, specific, and clearly stated skills.\n",
        "    - Outputs must be in **clear and concise English only**, regardless of the input language.\n",
        "    - If no skills are present, return empty lists for both categories.\n",
        "    - Translate all extracted skills into **English** if the input text is in Danish.\n",
        "\n",
        "\n",
        "    Provide the results in this JSON format:\n",
        "    {{\n",
        "      \"skills\": {{\n",
        "        \"primary\": [\"Skill 1\", \"Skill 2\", \"...\"],\n",
        "        \"secondary\": [\"Skill A\", \"Skill B\", \"...\"]\n",
        "      }}\n",
        "    }}\n",
        "\n",
        "    Job Listing Text:\n",
        "    {html_text}\n",
        "    \"\"\"\n",
        "    try:\n",
        "        response = ollama.chat(\n",
        "            model='llama3.1:8b',\n",
        "            messages=[\n",
        "                {'role': 'system', 'content': SYSTEM_PROMPT},\n",
        "                {'role': 'user', 'content': prompt},\n",
        "            ],\n",
        "            format='json',\n",
        "            options={\"temperature\": 0.1}\n",
        "        )\n",
        "        return json.loads(response['message']['content'])\n",
        "    except (json.JSONDecodeError, KeyError) as e:\n",
        "        print(f\"Error parsing JSON for Row {row_id}: {e}\")\n",
        "        return {\"skills\": {\"primary\": [], \"secondary\": []}}\n",
        "\n",
        "# Function to refine extracted skills\n",
        "def refine_skills(extracted_skills, row_id):\n",
        "    refinement_prompt = f\"\"\"\n",
        "    Refine the following extracted skills, ensuring accuracy and clear categorization:\n",
        "\n",
        "    Extracted Skills:\n",
        "    {json.dumps(extracted_skills, indent=2)}\n",
        "\n",
        "    ### Refined Categories:\n",
        "    1. **Primary Skills:** IT-related technical skills only.\n",
        "    2. **Secondary Skills:** Clearly defined soft skills.\n",
        "\n",
        "    ### Rules:\n",
        "    - Keep skills actionable, specific, and IT-relevant for \"primary.\"\n",
        "    - Use concise and clear English.\n",
        "    - Outputs must be in **clear and concise English.**\n",
        "    - Translate all extracted skills into **English** if the input text is in Danish.\n",
        "\n",
        "    Provide the results in this JSON format:\n",
        "    {{\n",
        "      \"skills\": {{\n",
        "        \"primary\": [\"Skill 1\", \"Skill 2\", \"...\"],\n",
        "        \"secondary\": [\"Skill A\", \"Skill B\", \"...\"]\n",
        "      }}\n",
        "    }}\n",
        "    \"\"\"\n",
        "    try:\n",
        "        response = ollama.chat(\n",
        "            model='llama3.1:8b',\n",
        "            messages=[\n",
        "                {'role': 'system', 'content': SYSTEM_PROMPT},\n",
        "                {'role': 'user', 'content': refinement_prompt},\n",
        "            ],\n",
        "            format='json',\n",
        "            options={\"temperature\": 0.1}\n",
        "        )\n",
        "        return json.loads(response['message']['content'])\n",
        "    except (json.JSONDecodeError, KeyError) as e:\n",
        "        print(f\"Error refining skills for Row {row_id}: {e}\")\n",
        "        return extracted_skills\n",
        "\n",
        "# Initialize the DataFrame with the columns for Primary_Skills and Secondary_Skills\n",
        "df['Primary_Skills'] = None\n",
        "df['Secondary_Skills'] = None\n",
        "\n",
        "# Process job listings and add extracted skills to the DataFrame\n",
        "for i, html_text in enumerate(df['HTML_Text'][:5]):\n",
        "    # Extract skills\n",
        "    extracted = extract_skills(html_text, row_id=i + 1)\n",
        "    print(f\"Extracted Skills from Row {i + 1}: {extracted}\")\n",
        "\n",
        "    # Refine extracted skills\n",
        "    refined = refine_skills(extracted, row_id=i + 1)\n",
        "    print(f\"Refined Skills for Row {i + 1}: {refined}\")\n",
        "\n",
        "    # Add the refined skills as new columns to the DataFrame\n",
        "    df.at[i, 'Primary_Skills'] = refined['skills']['primary']\n",
        "    df.at[i, 'Secondary_Skills'] = refined['skills']['secondary']\n",
        "\n",
        "# Display the updated DataFrame\n",
        "print(df[['Primary_Skills', 'Secondary_Skills']])\n",
        "\n",
        "# Optionally, save the updated DataFrame to a CSV or JSON file\n",
        "output_file = 'updated_job_listings_with_skills.csv'\n",
        "try:\n",
        "    df.to_csv(output_file, index=False, encoding='utf-8')\n",
        "    print(f\"Updated job listings saved to {output_file}.\")\n",
        "except IOError as e:\n",
        "    print(f\"Error saving file: {e}\")"
      ],
      "metadata": {
        "colab": {
          "base_uri": "https://localhost:8080/"
        },
        "id": "GCB2JYi6-Zei",
        "outputId": "531cc887-a3e0-45b4-a409-687a0ea3b9e7"
      },
      "execution_count": null,
      "outputs": [
        {
          "output_type": "stream",
          "name": "stdout",
          "text": [
            "Extracted Skills from Row 1: {'skills': {'primary': ['Python', 'AWS', 'Kubernetes', 'Docker', 'SQL', 'React', 'Accenture Technology', 'IT projects', 'State of the art technology', 'Security', 'Information Security', 'IT Risk Management', 'Enterprise security architecture', 'Data protection and privacy', 'Business continuity strategy', 'Identity and Access management', 'Infrastructure security', 'SOA and middleware security', 'Governance, Risk and Compliance', 'Biometrics and smart identity solutions'], 'secondary': ['Communication', 'Teamwork', 'Problem-Solving', 'Leadership', 'Marketing and networking', 'Relationship-building', 'Collaboration', 'Project management', 'People management', 'Personal leadership skills', 'Quality assurance processes']}}\n",
            "Refined Skills for Row 1: {'skills': {'primary': ['Python', 'AWS', 'Kubernetes', 'Docker', 'SQL', 'React'], 'secondary': ['Communication', 'Teamwork', 'Problem-Solving', 'Leadership', 'Project management', 'People management', 'Collaboration', 'Marketing and networking', 'Relationship-building']}}\n",
            "Extracted Skills from Row 2: {'skills': {'primary': ['Python', 'AWS', 'Kubernetes', 'Docker', 'SQL', 'React', 'IT Service Excellence', 'Data Center Technology and Operations', 'Security', 'Network or Performance Engineering'], 'secondary': ['Communication', 'Teamwork', 'Problem-Solving', 'Leadership', 'Strategy Development', 'IT Architecture Assessment and Design', 'IT Security Consulting', 'Application Optimization', 'Datacenter Optimization', 'Business Intelligence Solutions', 'Portal Technologies']}}\n",
            "Refined Skills for Row 2: {'skills': {'primary': ['Python', 'AWS', 'Kubernetes', 'Docker', 'SQL', 'React'], 'secondary': ['Communication', 'Teamwork', 'Problem-Solving', 'Leadership', 'Strategy Development']}}\n",
            "Extracted Skills from Row 3: {'skills': {'primary': ['IT Audit', 'Cyber Security', 'Risk Management', 'IT Governance', 'Process Improvement', 'Audit Framework Development'], 'secondary': ['Leadership', 'Teamwork', 'Communication', 'Problem-Solving', 'Time Management', 'Stakeholder Management', 'Self-Motivation', 'Results-Driven', 'Strong English Language Skills']}}\n",
            "Refined Skills for Row 3: {'skills': {'primary': ['IT Audit', 'Cyber Security', 'Risk Management', 'IT Governance'], 'secondary': ['Leadership', 'Teamwork', 'Communication', 'Problem-Solving', 'Time Management', 'Stakeholder Management', 'Self-Motivation', 'Results-Driven', 'Strong English Language Skills']}}\n",
            "Extracted Skills from Row 4: {'skills': {'primary': ['Oracle Fusion Middleware', 'Python', 'Java', 'SQL', 'Kubernetes', 'Docker'], 'secondary': ['Communication', 'Teamwork', 'Problem-Solving', 'Leadership', 'Business Analysis', 'Application Design', 'Collaboration', 'Time Management']}}\n",
            "Refined Skills for Row 4: {'skills': {'primary': ['Oracle Fusion Middleware', 'Python', 'Java', 'SQL', 'Kubernetes', 'Docker'], 'secondary': ['Communication', 'Teamwork', 'Problem-Solving', 'Leadership', 'Business Analysis', 'Application Design', 'Collaboration', 'Time Management']}}\n",
            "Extracted Skills from Row 5: {'skills': {'primary': ['Navision', 'IFRS', 'Consolidation'], 'secondary': ['Leadership', 'Management', 'Communication', 'Problem-solving', 'Teamwork', 'Time management', 'Engagement', 'Performance']}}\n",
            "Refined Skills for Row 5: {'skills': {'primary': ['Navision'], 'secondary': ['Leadership', 'Management', 'Communication', 'Problem-solving', 'Teamwork', 'Time management', 'Engagement', 'Performance']}}\n",
            "                                         Primary_Skills  \\\n",
            "0         [Python, AWS, Kubernetes, Docker, SQL, React]   \n",
            "1         [Python, AWS, Kubernetes, Docker, SQL, React]   \n",
            "2     [IT Audit, Cyber Security, Risk Management, IT...   \n",
            "3     [Oracle Fusion Middleware, Python, Java, SQL, ...   \n",
            "4                                            [Navision]   \n",
            "...                                                 ...   \n",
            "1485                                               None   \n",
            "1486                                               None   \n",
            "1487                                               None   \n",
            "1492                                               None   \n",
            "1493                                               None   \n",
            "\n",
            "                                       Secondary_Skills  \n",
            "0     [Communication, Teamwork, Problem-Solving, Lea...  \n",
            "1     [Communication, Teamwork, Problem-Solving, Lea...  \n",
            "2     [Leadership, Teamwork, Communication, Problem-...  \n",
            "3     [Communication, Teamwork, Problem-Solving, Lea...  \n",
            "4     [Leadership, Management, Communication, Proble...  \n",
            "...                                                 ...  \n",
            "1485                                               None  \n",
            "1486                                               None  \n",
            "1487                                               None  \n",
            "1492                                               None  \n",
            "1493                                               None  \n",
            "\n",
            "[620 rows x 2 columns]\n",
            "Updated job listings saved to updated_job_listings_with_skills.csv.\n"
          ]
        }
      ]
    },
    {
      "cell_type": "code",
      "source": [
        "df.head(5)"
      ],
      "metadata": {
        "colab": {
          "base_uri": "https://localhost:8080/",
          "height": 573
        },
        "id": "WozWc-R2B7Ut",
        "outputId": "b8383f8b-40f5-4d00-cb53-e774da844012"
      },
      "execution_count": null,
      "outputs": [
        {
          "output_type": "execute_result",
          "data": {
            "text/plain": [
              "                                               Title  \\\n",
              "0  Consultants to Information Security and IT Ris...   \n",
              "1  Experienced Infrastructure Consultant for IT S...   \n",
              "2                                   Head of IT Audit   \n",
              "3                Oracle Fusion Middleware Consultant   \n",
              "4                                 Head of Accounting   \n",
              "\n",
              "                                        URL        Area  Category_Job_ID  \\\n",
              "0  https://www.jobindex.dk/vis-job/r6572791  Copenhagen                4   \n",
              "1  https://www.jobindex.dk/vis-job/r6572792  Copenhagen                4   \n",
              "2  https://www.jobindex.dk/vis-job/r6572793  Copenhagen                3   \n",
              "3  https://www.jobindex.dk/vis-job/r6572750  Copenhagen                1   \n",
              "4  https://www.jobindex.dk/vis-job/r6572778  Copenhagen                1   \n",
              "\n",
              "                         Category_Job   Published  \\\n",
              "0          IT maintenance and Support  2016-01-10   \n",
              "1          IT maintenance and Support  2016-01-10   \n",
              "2                       IT Management  2016-01-10   \n",
              "3  System development and programming  2016-01-10   \n",
              "4  System development and programming  2016-01-10   \n",
              "\n",
              "                                            Job Link  \\\n",
              "0  https://www.jobindexarkiv.dk/cgi/showarchive.c...   \n",
              "1  https://www.jobindexarkiv.dk/cgi/showarchive.c...   \n",
              "2  https://www.jobindexarkiv.dk/cgi/showarchive.c...   \n",
              "3  https://www.jobindexarkiv.dk/cgi/showarchive.c...   \n",
              "4  https://www.jobindexarkiv.dk/cgi/showarchive.c...   \n",
              "\n",
              "                                           HTML_Text  word_count  \\\n",
              "0  Lignende jobannoncer Job i Storkøbenhavn kateg...         815   \n",
              "1  Lignende jobannoncer Job i Storkøbenhavn kateg...         610   \n",
              "2  Lignende jobannoncer Job i Storkøbenhavn kateg...         667   \n",
              "3  Lignende jobannoncer Job i Storkøbenhavn kateg...         526   \n",
              "4  Lignende jobannoncer Job i Storkøbenhavn kateg...         625   \n",
              "\n",
              "                                      Primary_Skills  \\\n",
              "0      [Python, AWS, Kubernetes, Docker, SQL, React]   \n",
              "1      [Python, AWS, Kubernetes, Docker, SQL, React]   \n",
              "2  [IT Audit, Cyber Security, Risk Management, IT...   \n",
              "3  [Oracle Fusion Middleware, Python, Java, SQL, ...   \n",
              "4                                         [Navision]   \n",
              "\n",
              "                                    Secondary_Skills  \n",
              "0  [Communication, Teamwork, Problem-Solving, Lea...  \n",
              "1  [Communication, Teamwork, Problem-Solving, Lea...  \n",
              "2  [Leadership, Teamwork, Communication, Problem-...  \n",
              "3  [Communication, Teamwork, Problem-Solving, Lea...  \n",
              "4  [Leadership, Management, Communication, Proble...  "
            ],
            "text/html": [
              "\n",
              "  <div id=\"df-e1904b4b-81ba-46f0-a40d-bba97eada8e1\" class=\"colab-df-container\">\n",
              "    <div>\n",
              "<style scoped>\n",
              "    .dataframe tbody tr th:only-of-type {\n",
              "        vertical-align: middle;\n",
              "    }\n",
              "\n",
              "    .dataframe tbody tr th {\n",
              "        vertical-align: top;\n",
              "    }\n",
              "\n",
              "    .dataframe thead th {\n",
              "        text-align: right;\n",
              "    }\n",
              "</style>\n",
              "<table border=\"1\" class=\"dataframe\">\n",
              "  <thead>\n",
              "    <tr style=\"text-align: right;\">\n",
              "      <th></th>\n",
              "      <th>Title</th>\n",
              "      <th>URL</th>\n",
              "      <th>Area</th>\n",
              "      <th>Category_Job_ID</th>\n",
              "      <th>Category_Job</th>\n",
              "      <th>Published</th>\n",
              "      <th>Job Link</th>\n",
              "      <th>HTML_Text</th>\n",
              "      <th>word_count</th>\n",
              "      <th>Primary_Skills</th>\n",
              "      <th>Secondary_Skills</th>\n",
              "    </tr>\n",
              "  </thead>\n",
              "  <tbody>\n",
              "    <tr>\n",
              "      <th>0</th>\n",
              "      <td>Consultants to Information Security and IT Ris...</td>\n",
              "      <td>https://www.jobindex.dk/vis-job/r6572791</td>\n",
              "      <td>Copenhagen</td>\n",
              "      <td>4</td>\n",
              "      <td>IT maintenance and Support</td>\n",
              "      <td>2016-01-10</td>\n",
              "      <td>https://www.jobindexarkiv.dk/cgi/showarchive.c...</td>\n",
              "      <td>Lignende jobannoncer Job i Storkøbenhavn kateg...</td>\n",
              "      <td>815</td>\n",
              "      <td>[Python, AWS, Kubernetes, Docker, SQL, React]</td>\n",
              "      <td>[Communication, Teamwork, Problem-Solving, Lea...</td>\n",
              "    </tr>\n",
              "    <tr>\n",
              "      <th>1</th>\n",
              "      <td>Experienced Infrastructure Consultant for IT S...</td>\n",
              "      <td>https://www.jobindex.dk/vis-job/r6572792</td>\n",
              "      <td>Copenhagen</td>\n",
              "      <td>4</td>\n",
              "      <td>IT maintenance and Support</td>\n",
              "      <td>2016-01-10</td>\n",
              "      <td>https://www.jobindexarkiv.dk/cgi/showarchive.c...</td>\n",
              "      <td>Lignende jobannoncer Job i Storkøbenhavn kateg...</td>\n",
              "      <td>610</td>\n",
              "      <td>[Python, AWS, Kubernetes, Docker, SQL, React]</td>\n",
              "      <td>[Communication, Teamwork, Problem-Solving, Lea...</td>\n",
              "    </tr>\n",
              "    <tr>\n",
              "      <th>2</th>\n",
              "      <td>Head of IT Audit</td>\n",
              "      <td>https://www.jobindex.dk/vis-job/r6572793</td>\n",
              "      <td>Copenhagen</td>\n",
              "      <td>3</td>\n",
              "      <td>IT Management</td>\n",
              "      <td>2016-01-10</td>\n",
              "      <td>https://www.jobindexarkiv.dk/cgi/showarchive.c...</td>\n",
              "      <td>Lignende jobannoncer Job i Storkøbenhavn kateg...</td>\n",
              "      <td>667</td>\n",
              "      <td>[IT Audit, Cyber Security, Risk Management, IT...</td>\n",
              "      <td>[Leadership, Teamwork, Communication, Problem-...</td>\n",
              "    </tr>\n",
              "    <tr>\n",
              "      <th>3</th>\n",
              "      <td>Oracle Fusion Middleware Consultant</td>\n",
              "      <td>https://www.jobindex.dk/vis-job/r6572750</td>\n",
              "      <td>Copenhagen</td>\n",
              "      <td>1</td>\n",
              "      <td>System development and programming</td>\n",
              "      <td>2016-01-10</td>\n",
              "      <td>https://www.jobindexarkiv.dk/cgi/showarchive.c...</td>\n",
              "      <td>Lignende jobannoncer Job i Storkøbenhavn kateg...</td>\n",
              "      <td>526</td>\n",
              "      <td>[Oracle Fusion Middleware, Python, Java, SQL, ...</td>\n",
              "      <td>[Communication, Teamwork, Problem-Solving, Lea...</td>\n",
              "    </tr>\n",
              "    <tr>\n",
              "      <th>4</th>\n",
              "      <td>Head of Accounting</td>\n",
              "      <td>https://www.jobindex.dk/vis-job/r6572778</td>\n",
              "      <td>Copenhagen</td>\n",
              "      <td>1</td>\n",
              "      <td>System development and programming</td>\n",
              "      <td>2016-01-10</td>\n",
              "      <td>https://www.jobindexarkiv.dk/cgi/showarchive.c...</td>\n",
              "      <td>Lignende jobannoncer Job i Storkøbenhavn kateg...</td>\n",
              "      <td>625</td>\n",
              "      <td>[Navision]</td>\n",
              "      <td>[Leadership, Management, Communication, Proble...</td>\n",
              "    </tr>\n",
              "  </tbody>\n",
              "</table>\n",
              "</div>\n",
              "    <div class=\"colab-df-buttons\">\n",
              "\n",
              "  <div class=\"colab-df-container\">\n",
              "    <button class=\"colab-df-convert\" onclick=\"convertToInteractive('df-e1904b4b-81ba-46f0-a40d-bba97eada8e1')\"\n",
              "            title=\"Convert this dataframe to an interactive table.\"\n",
              "            style=\"display:none;\">\n",
              "\n",
              "  <svg xmlns=\"http://www.w3.org/2000/svg\" height=\"24px\" viewBox=\"0 -960 960 960\">\n",
              "    <path d=\"M120-120v-720h720v720H120Zm60-500h600v-160H180v160Zm220 220h160v-160H400v160Zm0 220h160v-160H400v160ZM180-400h160v-160H180v160Zm440 0h160v-160H620v160ZM180-180h160v-160H180v160Zm440 0h160v-160H620v160Z\"/>\n",
              "  </svg>\n",
              "    </button>\n",
              "\n",
              "  <style>\n",
              "    .colab-df-container {\n",
              "      display:flex;\n",
              "      gap: 12px;\n",
              "    }\n",
              "\n",
              "    .colab-df-convert {\n",
              "      background-color: #E8F0FE;\n",
              "      border: none;\n",
              "      border-radius: 50%;\n",
              "      cursor: pointer;\n",
              "      display: none;\n",
              "      fill: #1967D2;\n",
              "      height: 32px;\n",
              "      padding: 0 0 0 0;\n",
              "      width: 32px;\n",
              "    }\n",
              "\n",
              "    .colab-df-convert:hover {\n",
              "      background-color: #E2EBFA;\n",
              "      box-shadow: 0px 1px 2px rgba(60, 64, 67, 0.3), 0px 1px 3px 1px rgba(60, 64, 67, 0.15);\n",
              "      fill: #174EA6;\n",
              "    }\n",
              "\n",
              "    .colab-df-buttons div {\n",
              "      margin-bottom: 4px;\n",
              "    }\n",
              "\n",
              "    [theme=dark] .colab-df-convert {\n",
              "      background-color: #3B4455;\n",
              "      fill: #D2E3FC;\n",
              "    }\n",
              "\n",
              "    [theme=dark] .colab-df-convert:hover {\n",
              "      background-color: #434B5C;\n",
              "      box-shadow: 0px 1px 3px 1px rgba(0, 0, 0, 0.15);\n",
              "      filter: drop-shadow(0px 1px 2px rgba(0, 0, 0, 0.3));\n",
              "      fill: #FFFFFF;\n",
              "    }\n",
              "  </style>\n",
              "\n",
              "    <script>\n",
              "      const buttonEl =\n",
              "        document.querySelector('#df-e1904b4b-81ba-46f0-a40d-bba97eada8e1 button.colab-df-convert');\n",
              "      buttonEl.style.display =\n",
              "        google.colab.kernel.accessAllowed ? 'block' : 'none';\n",
              "\n",
              "      async function convertToInteractive(key) {\n",
              "        const element = document.querySelector('#df-e1904b4b-81ba-46f0-a40d-bba97eada8e1');\n",
              "        const dataTable =\n",
              "          await google.colab.kernel.invokeFunction('convertToInteractive',\n",
              "                                                    [key], {});\n",
              "        if (!dataTable) return;\n",
              "\n",
              "        const docLinkHtml = 'Like what you see? Visit the ' +\n",
              "          '<a target=\"_blank\" href=https://colab.research.google.com/notebooks/data_table.ipynb>data table notebook</a>'\n",
              "          + ' to learn more about interactive tables.';\n",
              "        element.innerHTML = '';\n",
              "        dataTable['output_type'] = 'display_data';\n",
              "        await google.colab.output.renderOutput(dataTable, element);\n",
              "        const docLink = document.createElement('div');\n",
              "        docLink.innerHTML = docLinkHtml;\n",
              "        element.appendChild(docLink);\n",
              "      }\n",
              "    </script>\n",
              "  </div>\n",
              "\n",
              "\n",
              "<div id=\"df-58d3213a-9906-44da-84e5-641b3e4a2947\">\n",
              "  <button class=\"colab-df-quickchart\" onclick=\"quickchart('df-58d3213a-9906-44da-84e5-641b3e4a2947')\"\n",
              "            title=\"Suggest charts\"\n",
              "            style=\"display:none;\">\n",
              "\n",
              "<svg xmlns=\"http://www.w3.org/2000/svg\" height=\"24px\"viewBox=\"0 0 24 24\"\n",
              "     width=\"24px\">\n",
              "    <g>\n",
              "        <path d=\"M19 3H5c-1.1 0-2 .9-2 2v14c0 1.1.9 2 2 2h14c1.1 0 2-.9 2-2V5c0-1.1-.9-2-2-2zM9 17H7v-7h2v7zm4 0h-2V7h2v10zm4 0h-2v-4h2v4z\"/>\n",
              "    </g>\n",
              "</svg>\n",
              "  </button>\n",
              "\n",
              "<style>\n",
              "  .colab-df-quickchart {\n",
              "      --bg-color: #E8F0FE;\n",
              "      --fill-color: #1967D2;\n",
              "      --hover-bg-color: #E2EBFA;\n",
              "      --hover-fill-color: #174EA6;\n",
              "      --disabled-fill-color: #AAA;\n",
              "      --disabled-bg-color: #DDD;\n",
              "  }\n",
              "\n",
              "  [theme=dark] .colab-df-quickchart {\n",
              "      --bg-color: #3B4455;\n",
              "      --fill-color: #D2E3FC;\n",
              "      --hover-bg-color: #434B5C;\n",
              "      --hover-fill-color: #FFFFFF;\n",
              "      --disabled-bg-color: #3B4455;\n",
              "      --disabled-fill-color: #666;\n",
              "  }\n",
              "\n",
              "  .colab-df-quickchart {\n",
              "    background-color: var(--bg-color);\n",
              "    border: none;\n",
              "    border-radius: 50%;\n",
              "    cursor: pointer;\n",
              "    display: none;\n",
              "    fill: var(--fill-color);\n",
              "    height: 32px;\n",
              "    padding: 0;\n",
              "    width: 32px;\n",
              "  }\n",
              "\n",
              "  .colab-df-quickchart:hover {\n",
              "    background-color: var(--hover-bg-color);\n",
              "    box-shadow: 0 1px 2px rgba(60, 64, 67, 0.3), 0 1px 3px 1px rgba(60, 64, 67, 0.15);\n",
              "    fill: var(--button-hover-fill-color);\n",
              "  }\n",
              "\n",
              "  .colab-df-quickchart-complete:disabled,\n",
              "  .colab-df-quickchart-complete:disabled:hover {\n",
              "    background-color: var(--disabled-bg-color);\n",
              "    fill: var(--disabled-fill-color);\n",
              "    box-shadow: none;\n",
              "  }\n",
              "\n",
              "  .colab-df-spinner {\n",
              "    border: 2px solid var(--fill-color);\n",
              "    border-color: transparent;\n",
              "    border-bottom-color: var(--fill-color);\n",
              "    animation:\n",
              "      spin 1s steps(1) infinite;\n",
              "  }\n",
              "\n",
              "  @keyframes spin {\n",
              "    0% {\n",
              "      border-color: transparent;\n",
              "      border-bottom-color: var(--fill-color);\n",
              "      border-left-color: var(--fill-color);\n",
              "    }\n",
              "    20% {\n",
              "      border-color: transparent;\n",
              "      border-left-color: var(--fill-color);\n",
              "      border-top-color: var(--fill-color);\n",
              "    }\n",
              "    30% {\n",
              "      border-color: transparent;\n",
              "      border-left-color: var(--fill-color);\n",
              "      border-top-color: var(--fill-color);\n",
              "      border-right-color: var(--fill-color);\n",
              "    }\n",
              "    40% {\n",
              "      border-color: transparent;\n",
              "      border-right-color: var(--fill-color);\n",
              "      border-top-color: var(--fill-color);\n",
              "    }\n",
              "    60% {\n",
              "      border-color: transparent;\n",
              "      border-right-color: var(--fill-color);\n",
              "    }\n",
              "    80% {\n",
              "      border-color: transparent;\n",
              "      border-right-color: var(--fill-color);\n",
              "      border-bottom-color: var(--fill-color);\n",
              "    }\n",
              "    90% {\n",
              "      border-color: transparent;\n",
              "      border-bottom-color: var(--fill-color);\n",
              "    }\n",
              "  }\n",
              "</style>\n",
              "\n",
              "  <script>\n",
              "    async function quickchart(key) {\n",
              "      const quickchartButtonEl =\n",
              "        document.querySelector('#' + key + ' button');\n",
              "      quickchartButtonEl.disabled = true;  // To prevent multiple clicks.\n",
              "      quickchartButtonEl.classList.add('colab-df-spinner');\n",
              "      try {\n",
              "        const charts = await google.colab.kernel.invokeFunction(\n",
              "            'suggestCharts', [key], {});\n",
              "      } catch (error) {\n",
              "        console.error('Error during call to suggestCharts:', error);\n",
              "      }\n",
              "      quickchartButtonEl.classList.remove('colab-df-spinner');\n",
              "      quickchartButtonEl.classList.add('colab-df-quickchart-complete');\n",
              "    }\n",
              "    (() => {\n",
              "      let quickchartButtonEl =\n",
              "        document.querySelector('#df-58d3213a-9906-44da-84e5-641b3e4a2947 button');\n",
              "      quickchartButtonEl.style.display =\n",
              "        google.colab.kernel.accessAllowed ? 'block' : 'none';\n",
              "    })();\n",
              "  </script>\n",
              "</div>\n",
              "\n",
              "    </div>\n",
              "  </div>\n"
            ],
            "application/vnd.google.colaboratory.intrinsic+json": {
              "type": "dataframe",
              "variable_name": "df",
              "summary": "{\n  \"name\": \"df\",\n  \"rows\": 620,\n  \"fields\": [\n    {\n      \"column\": \"Title\",\n      \"properties\": {\n        \"dtype\": \"string\",\n        \"num_unique_values\": 578,\n        \"samples\": [\n          \"Softwarearkitekt\",\n          \"iOS Developer - Ballerup - GN Netcom, Denmark\",\n          \"Technical Support Agent Danish\\\\Finnish\"\n        ],\n        \"semantic_type\": \"\",\n        \"description\": \"\"\n      }\n    },\n    {\n      \"column\": \"URL\",\n      \"properties\": {\n        \"dtype\": \"string\",\n        \"num_unique_values\": 620,\n        \"samples\": [\n          \"https://www.jobindex.dk/vis-job/r6568564\",\n          \"https://www.jobindex.dk/vis-job/h580772\",\n          \"https://www.jobindex.dk/vis-job/r6579780\"\n        ],\n        \"semantic_type\": \"\",\n        \"description\": \"\"\n      }\n    },\n    {\n      \"column\": \"Area\",\n      \"properties\": {\n        \"dtype\": \"category\",\n        \"num_unique_values\": 37,\n        \"samples\": [\n          \"H\\u00f8rsholm\",\n          \"Kolding\",\n          \"Ish\\u00f8j\"\n        ],\n        \"semantic_type\": \"\",\n        \"description\": \"\"\n      }\n    },\n    {\n      \"column\": \"Category_Job_ID\",\n      \"properties\": {\n        \"dtype\": \"number\",\n        \"std\": 10,\n        \"min\": 1,\n        \"max\": 93,\n        \"num_unique_values\": 7,\n        \"samples\": [\n          4,\n          3,\n          6\n        ],\n        \"semantic_type\": \"\",\n        \"description\": \"\"\n      }\n    },\n    {\n      \"column\": \"Category_Job\",\n      \"properties\": {\n        \"dtype\": \"category\",\n        \"num_unique_values\": 7,\n        \"samples\": [\n          \"IT maintenance and Support\",\n          \"IT Management\",\n          \"Internet and WWW\"\n        ],\n        \"semantic_type\": \"\",\n        \"description\": \"\"\n      }\n    },\n    {\n      \"column\": \"Published\",\n      \"properties\": {\n        \"dtype\": \"object\",\n        \"num_unique_values\": 30,\n        \"samples\": [\n          \"2016-01-04\",\n          \"2016-01-16\",\n          \"2016-01-09\"\n        ],\n        \"semantic_type\": \"\",\n        \"description\": \"\"\n      }\n    },\n    {\n      \"column\": \"Job Link\",\n      \"properties\": {\n        \"dtype\": \"string\",\n        \"num_unique_values\": 620,\n        \"samples\": [\n          \"https://www.jobindexarkiv.dk/cgi/showarchive.cgi?tid=r6568564\",\n          \"https://www.jobindexarkiv.dk/cgi/showarchive.cgi?tid=h580772\",\n          \"https://www.jobindexarkiv.dk/cgi/showarchive.cgi?tid=r6579780\"\n        ],\n        \"semantic_type\": \"\",\n        \"description\": \"\"\n      }\n    },\n    {\n      \"column\": \"HTML_Text\",\n      \"properties\": {\n        \"dtype\": \"string\",\n        \"num_unique_values\": 606,\n        \"samples\": [\n          \"Lignende jobannoncer Job i Stork\\u00f8benhavn kategoriseret i Systemudvikling og programmering (233) Jobindex Jobannoncearkiv Dette er en gammel version af jobannoncen, som blev gemt 2016-01-07 06:19:16. Bem\\u00e6rk, at jobannoncen ikke l\\u00e6ngere er aktuel og firmaet derfor sandsynligvis ikke l\\u00e6ngere \\u00f8nsker at modtage ans\\u00f8gninger. This is an old version of the job ad, which was saved on 2016-01-07 06:19:16. Please note that this job ad has expired and that the company is probably no longer interested in receiving applications. S\\u00f8g efter job Arbejdsgivere / Ops\\u00e6t job Upload dit CV log p\\u00e5 Hvad: Hvor: Avanceret jobs\\u00f8gning Jobtitel, s\\u00f8geord eller virksomhed by eller omr\\u00e5de MES PROFESSIONAL CGI - Ballerup Manufacturing Execution System (MES) for Pharma At CGI, we're committed to helping all of our stakeholders succeed. Our 65,000 professionals in 40 countries across the Americas, Europe and Asia Pacific provide end-to-end IT and business process services that facilitate the ongoing evolution of our clients' businesses. Our Manufacturing unit works with consultancy, implementation and validation of IT and MES systems for various industries. Consultancy within MES is one of our core competencies and we are looking more professionals to further strengthen our MES group in Denmark. Our solutions are based on a deep understanding of the customers\\u2019 production and business processes and on integration of standard system components from suppliers. Your job You will operate in a highly regulated world that requires minute attention to detail; harsh demands and strict standards for quality is actually what inspire us to keep on solving the insolvable. You will have the opportunity to participate in all phases of projects, e.g. sales support, consultancy and specification in the Conceptual and Basic Design, engineering and validation from Detailed Design until Handover to the end customer. In the initial phases, you will get close to our customers in order to understand their needs and assure that the proposed solutions are properly anchored in the customer organisation. You will be working in an active and open organisation with more than 800 MES colleagues from around the world. We supply consultancy and engineering services to a wide range of customers and industries. Your professional qualifications Most likely you have a degree in engineering, computer science, pharmacy or similar. You may have project experience with both primary and secondary pharmaceutical manufacturing processes. The desired technical skills include knowledge of technologies and functionality within domains like ERP, MES, SCADA/PLC and DCS. Likewise, it is an advantage if you have a good understanding of industry standards such as S88, S95, BatchML, OPC, SQL, XML etc. Your English must be fluent, both written and spoken. Your mind-set As a person you are flexible, like to be challenged and prepared for change. Furthermore, you like to broaden your competences, and you are able to understand customer needs. You have personal drive, a positive mindset and a good sense of humour. Lastly, you can work individually and in teams. CGI offers \\u2022 Exciting tasks, high expertise and professionalism \\u2022 Skills and career development \\u2022 A leading company with growth and a healthy economy \\u2022 Management Foundation structure \\u2022 Share Purchase Plan \\u2022 A good social environment with respect for each other \\u2022 A team of talented colleagues with great team spirit Contact Any questions about the job please contact Director Kim Visby at 0045 5218 5307 At CGI, we\\u2019re a team of builders. We call our employees members because all who join CGI are building their own company - one that has grown to 68,000 professionals located in 40 countries. Founded in 1976, CGI is a leading IT and business process services firm committed to helping clients succeed. We have the global resources, expertise, stability and dedicated professionals needed to achieve results for our clients - and for our members. Come grow with us. Learn more at www.cgi.com. This is a great opportunity to join a winning team. CGI offers a competitive compensation package with opportunities for growth and professional development. Benefits for full-time, permanent members start on the first day of employment and include a paid time-off program and profit participation and stock purchase plans. We wish to thank all applicants for their interest and effort in applying for this position, however, only candidates selected for interviews will be contacted. No unsolicited agency referrals please. WE ARE AN EQUAL OPPORTUNITY EMPLOYER. 2 dage siden - gem job \\u00bb Vis eller anvend p\\u00e5 job Send en e-mail til en ven med dette job Mes Professional Job i Ballerup Job p\\u00e5 CGI i Ballerup Om denne virksomhed CGI About CGI Group\\n\\nCGI doesn't generate make-believe worlds, but rather real-life worldwide IT services. The company is the leading... Gennemse job - Om Indeed - Hj\\u00e6lpecenter Cookies hj\\u00e6lper os med at levere vores tjenester. Ved at bruge vores tjenester accepterer du vores brug af cookies. L\\u00e6s mere \\u00b7 OK \\u00a92016 Indeed - Cookies, fortrolighed og vilk\\u00e5r Did you apply to this job? Yes - I plan to apply - No, I don't intend to apply Yes - No\",\n          \"Lignende jobannoncer Job i Stork\\u00f8benhavn kategoriseret i Systemudvikling og programmering (234) Jobindex Jobannoncearkiv Dette er en gammel version af jobannoncen, som blev gemt 2016-01-15 08:40:08. Bem\\u00e6rk, at jobannoncen ikke l\\u00e6ngere er aktuel og firmaet derfor sandsynligvis ikke l\\u00e6ngere \\u00f8nsker at modtage ans\\u00f8gninger. This is an old version of the job ad, which was saved on 2016-01-15 08:40:08. Please note that this job ad has expired and that the company is probably no longer interested in receiving applications. Jobindex Udvikler til gr\\u00f8n transportl\\u00f8sning Delebilfonden, K\\u00f8benhavn Delebilfonden LetsGo er en nonprofit organisation som s\\u00f8ger en udvikler til drift og udvikling af vores reservations- og administrationssystemer. Du vil blive en del af en udviklingsorienteret organisation i st\\u00e6rk v\\u00e6kst, hvor vi br\\u00e6nder for at g\\u00f8re en forskel og skabe en ny gr\\u00f8n transportkultur. Vi er en arbejdsplads med h\\u00f8jt til loftet, hvor der er plads til gode ideer. Systemerne som du kommer til at arbejde med inkluderer et webbaseret reservationssystem, systemer til administration af medlemmer og bilfl\\u00e5der, samt system til kommunikation med vores biler. Vores stack er: AWS EC2 Ubuntu / Linux uWSGI NGINX PostgreSQL Memcached Python Django Celery LESS / Bootstrap Javascript / JQuery Vi l\\u00e6gger is\\u00e6r v\\u00e6gt p\\u00e5 at du har erfaring med Django. Derudover vil det v\\u00e6re en fordel hvis du har erfaring med frontend programming, herunder Bootstrap, JQuery og User Experience. Vi k\\u00f8rer med continuous integration, har kort vej fra udvikling til drift og laver flere deploys om dagen. Vi arbejder hele tiden p\\u00e5 at forbedre vores tekniske infrastruktur og du vil have rig mulighed for at f\\u00e5 indflydelse p\\u00e5 udviklingen af den. I det daglige vil du indg\\u00e5 i LetsGos udviklingsafdeling med to andre udviklere og en projektleder. Der er fleksible arbejdstider og mulighed for hjemmearbejdsdage. Ans\\u00f8gning og cv sendes til letsgo@letsgo.dk hurtigst muligt og senest d. 24. januar 2016 . Du er velkommen til at inkludere et link til noget kode du har skrevet. Har du sp\\u00f8rgsm\\u00e5l til stillingen er du velkommen til at kontakte projektleder Rune Jacobsen p\\u00e5 telefon 60 67 04 57 eller rj@letsgo.dk . Ans\\u00e6ttelsesstart: Snarest muligt. Ans\\u00e6ttelsessted: N\\u00f8rre Farimagsgade 11 st. th., 1364 K\\u00f8benhavn K. Ans\\u00f8gningsfrist: d. 24. januar 2016. Ans\\u00e6ttelsessamtaler: d. 28. januar 2016. Skriv venligst i din ans\\u00f8gning, at du s\\u00e5 annoncen hos Jobindex. Cookies p\\u00e5 Jobindex Vi bruger cookies til trafikm\\u00e5ling og til optimering af\\nhjemmesidens indhold. Der gemmes cookies fra Jobindex og fra vores\\nsamarbejdspartnere. Ved at klikke videre p\\u00e5 hjemmesiden accepterer\\ndu vores brug af cookies. L\\u00e6s mere om vores cookies. Accepter\",\n          \"Lignende jobannoncer Job hos Nordea (3) Job i Stork\\u00f8benhavn kategoriseret i Systemudvikling og programmering (234) Jobindex Jobannoncearkiv Dette er en gammel version af jobannoncen, som blev gemt 2016-01-13 14:04:14. Bem\\u00e6rk, at jobannoncen ikke l\\u00e6ngere er aktuel og firmaet derfor sandsynligvis ikke l\\u00e6ngere \\u00f8nsker at modtage ans\\u00f8gninger. This is an old version of the job ad, which was saved on 2016-01-13 14:04:14. Please note that this job ad has expired and that the company is probably no longer interested in receiving applications. Jobindex 20.800 job i 13.876 jobannoncer Log ind ...eller tilmeld dig her | English Menu Jobs\\u00f8gere S\\u00f8g job Din side Jobagenter CV Online ans\\u00f8gning S\\u00f8g virksomhed Test dig selv Tjek din l\\u00f8n Persontypetest Jobgl\\u00e6de Stresstest R\\u00e5d og inspiration Gode r\\u00e5d om jobs\\u00f8gning Ans\\u00f8gningsmaskinen Jobvejleder Jobindex TV Jobindex Kurser Great Place to Work Karriereveje Elevplads Graduate program Eksportjob Vikar TopKvinder For virksomheder \\u00d7 Luk F\\u00f8lg virksomheder som du vil v\\u00e6re en del af N\\u00e5r du f\\u00f8lger virksomheden s\\u00e5 vil du modtage relevant information fra virksomheden ang\\u00e5ende job i virksomheden. Virksomheden kan se dine personlige data som navn, adresse mm. Derved er du synlig n\\u00e5r virksomheden skal rekruttere nye medarbejdere. Sp\\u00f8rg mig ikke igen Luk F\\u00f8lg virksomheden Development Manager, Nordea Finance NORDEA BANK DANMARK A/S Development within Nordea Finance is looking for a development manager with agile experience to join our team in Denmark.We are looking for a strong candidate who knows how to bridge business and IT and can support us in our journey of implementing Scrum. This is a great opportunity where you can influence how Nordea Finance does business and how we support our customers. The position we offer As a development manager you will drive improvements and micro improvements that cover process optimisation, product development and compliance to ensure that the service & product offerings within Nordea Finance is competitive and adds value to our Partners. Besides executing development activities from idea to benefit realization, you will provide support between Business and IT solving production issues and managing test activities securing high quality services and deliveries. In overview the job consists of: -Drive development initiatives in order to meet great customer experiences -Drive improvements and manage or participate in projects for initiatives involving IT development to secure value adding solutions -Provide support within the organization with application management and SLA management to ensure high quality services -Test management and coordination with providers and within Nordea Finance organization to ensure high quality of deliverables -Build and maintain relationships in order to work in cross-functional and/or cross national teams -Act as One point of entry between business and IT to support value chain performance -Act as the coordinating party between Nordea Finance units and Nordea IT to ensure progress -Work closely together with parties in the value chain (Product managers; Process responsible IT etc.) to support Nordea Finance value chain thinking You will join a well-functioning team of 5 skilled & committed people who are business-oriented but also have an understanding of IT. Organizationally, we are in-between business and IT, whom we work in close partnership with as we do with the value chains across departments and business areas. If you are good at navigating in a complex environment both political and organisational as well as like challenging and exciting tasks, you could be the candidate we are looking for. This is really a job where you can excel and where you have the freedom and mandate to be successful. The qualifications you need Ideally you have 3-5 years of experience working in a similar role bridging business and IT either as a project manager, test manager or IT related role preferably in an Agile setting. You are self-driven, structured, proactive and a team player who knows how to manage the different stakeholders. Finally, you possess energy, a strong drive to achieve and commitment to deliver high quality results even in headwinds. Please also bear in mind that: -Experience within Agile methodologies is a big plus -Experience with project & test management especially test automation is a big plus -Experience within Clarity, Quality Center and especially Jira is also seen as a plus More information and send application We look forward to receiving your application no later than 26 January 2016. Suitable candidates will be called for an interview after the application period is closed. For further information please contact Henrik Nicolaysen on mobile number +45 3047 7127. Antal ledige stillinger: 1 Lignende jobannoncer Job hos Nordea Bank Danmark A/S (16) Job i K\\u00f8benhavnsomr\\u00e5det kategoriseret i Systemudvikling og programmering (421) Vigtige datoer Offentliggjort den: 2016-01-13 Sidste dag annoncen er aktiv: 2016-01-26 Ans\\u00f8gningsfrist: 2016-01-26 Ans\\u00e6ttelsesdato: Snarest muligt Virksomheden tilbyder Ans\\u00e6ttelsesform:\\u00a0\\nFast ans\\u00e6ttelse Ugentlig arbejdstid:\\u00a0\\nFuldtid Kontaktpersoner Henrik  Nicolaysen +4530477127\\n(Arbejde direkte) Arbejdsgiver NORDEA BANK DANMARK A/S Strandgade 3 1401 K\\u00f8benhavn K (Arbejdspladsen ligger  \\n i K\\u00f8benhavns kommune) Ans\\u00f8gning s\\u00f8g via virksomhedens hjemmeside Annonce ID 4110679 Gem job Virksomhedsprofil Profil F\\u00f8lg F\\u00f8lger Del Fejlmeld Jobindex A/S Holger Danskes Vej 91 2000 Frederiksberg Tlf. 3832 3355 Fax\\n            3832 3350 Bes\\u00f8g os p\\u00e5 Facebook Bes\\u00f8g os p\\u00e5 Google+ Info Support og kommentarer Salg og information Om Jobindex Investor Job hos Jobindex S\\u00f8g job via n\\u00f8gleord S\\u00f8g job via byer Sitemap Betingelser for brugere af Jobindex Job i Norden Se Jobindex i: Sverige Norge Gr\\u00f8nland Bes\\u00f8g ogs\\u00e5: StepStone it-jobbank Cookies p\\u00e5 Jobindex Vi bruger cookies til trafikm\\u00e5ling og til optimering af\\nhjemmesidens indhold. Der gemmes cookies fra Jobindex og fra vores\\nsamarbejdspartnere. Ved at klikke videre p\\u00e5 hjemmesiden accepterer\\ndu vores brug af cookies. L\\u00e6s mere om vores cookies. Accepter\"\n        ],\n        \"semantic_type\": \"\",\n        \"description\": \"\"\n      }\n    },\n    {\n      \"column\": \"word_count\",\n      \"properties\": {\n        \"dtype\": \"number\",\n        \"std\": 266,\n        \"min\": 403,\n        \"max\": 4080,\n        \"num_unique_values\": 400,\n        \"samples\": [\n          961,\n          615,\n          994\n        ],\n        \"semantic_type\": \"\",\n        \"description\": \"\"\n      }\n    },\n    {\n      \"column\": \"Primary_Skills\",\n      \"properties\": {\n        \"dtype\": \"object\",\n        \"semantic_type\": \"\",\n        \"description\": \"\"\n      }\n    },\n    {\n      \"column\": \"Secondary_Skills\",\n      \"properties\": {\n        \"dtype\": \"object\",\n        \"semantic_type\": \"\",\n        \"description\": \"\"\n      }\n    }\n  ]\n}"
            }
          },
          "metadata": {},
          "execution_count": 70
        }
      ]
    }
  ],
  "metadata": {
    "colab": {
      "provenance": [],
      "gpuType": "T4"
    },
    "kernelspec": {
      "display_name": "Python 3",
      "name": "python3"
    },
    "language_info": {
      "name": "python"
    },
    "accelerator": "GPU"
  },
  "nbformat": 4,
  "nbformat_minor": 0
}